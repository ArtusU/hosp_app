{
 "cells": [
  {
   "cell_type": "code",
   "execution_count": 5,
   "metadata": {},
   "outputs": [],
   "source": [
    "import pandas as pd"
   ]
  },
  {
   "cell_type": "code",
   "execution_count": 6,
   "metadata": {},
   "outputs": [],
   "source": [
    "data = pd.read_csv('data.csv')"
   ]
  },
  {
   "cell_type": "code",
   "execution_count": 7,
   "metadata": {},
   "outputs": [],
   "source": [
    "grouped_data = data.groupby('hospital')\n",
    "means = grouped_data.mean()[['q1_binary', 'q2_binary', 'q3_binary']]\n"
   ]
  },
  {
   "cell_type": "code",
   "execution_count": 8,
   "metadata": {},
   "outputs": [
    {
     "name": "stdout",
     "output_type": "stream",
     "text": [
      "            q1_binary  q2_binary  q3_binary\n",
      "hospital                                   \n",
      "Cambridge    0.291667   0.541667   0.791667\n",
      "Manchester   0.312500   0.406250   0.281250\n",
      "Sheffield    0.428571   0.238095   0.571429\n",
      "Yorkshire    0.652174   0.391304   0.521739\n"
     ]
    }
   ],
   "source": [
    "print(means)"
   ]
  },
  {
   "cell_type": "code",
   "execution_count": 11,
   "metadata": {},
   "outputs": [],
   "source": [
    "info_df = pd.read_csv('info_about_data.csv')\n",
    "\n",
    "columns = [f'q{i}_binary' for i in range(1, 4)]\n",
    "column_info = {row['Question_id']: row['Question'] for _, row in info_df.iterrows()}"
   ]
  },
  {
   "cell_type": "code",
   "execution_count": 12,
   "metadata": {},
   "outputs": [
    {
     "name": "stdout",
     "output_type": "stream",
     "text": [
      "{'Q1_binary': 'Did you get help from staff to keep in touch with your family and friends?', 'Q2_binary': 'Did you get enough help from staff to wash or keep yourself clean?', 'Q3_binary': 'Were you offered food that met any dietary needs or requirements you had?'}\n"
     ]
    }
   ],
   "source": [
    "print(column_info)"
   ]
  }
 ],
 "metadata": {
  "kernelspec": {
   "display_name": "base",
   "language": "python",
   "name": "python3"
  },
  "language_info": {
   "codemirror_mode": {
    "name": "ipython",
    "version": 3
   },
   "file_extension": ".py",
   "mimetype": "text/x-python",
   "name": "python",
   "nbconvert_exporter": "python",
   "pygments_lexer": "ipython3",
   "version": "3.9.7"
  },
  "orig_nbformat": 4
 },
 "nbformat": 4,
 "nbformat_minor": 2
}
